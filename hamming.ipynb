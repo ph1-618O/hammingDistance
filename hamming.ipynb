{
 "cells": [
  {
   "cell_type": "code",
   "execution_count": 34,
   "metadata": {},
   "outputs": [],
   "source": [
    "from PyDictionary import PyDictionary as wordDict\n",
    "from english_words import english_words_set as words\n",
    "import itertools\n",
    "from itertools import permutations\n",
    "import time\n",
    "import random\n",
    "import json\n",
    "import pandas as pd"
   ]
  },
  {
   "cell_type": "code",
   "execution_count": 36,
   "metadata": {},
   "outputs": [],
   "source": [
    "def getHamming():\n",
    "    get_input = input('What two words would your like to get the Hamming Distance of?')\n",
    "    str1 = get_input.split()[0]\n",
    "    #assuming the input could be cat and bat, grabbing the first and last words\n",
    "    str2 = get_input.split()[-1]\n",
    "    i = 0\n",
    "    count = 0\n",
    "    if len(str1) > len(str2):\n",
    "        dif = len(str1) - len(str2)\n",
    "        truncStr = str1[:-dif]\n",
    "        while(i < len(truncStr)):\n",
    "            if(truncStr[i] != str2[i]):\n",
    "                count += 1\n",
    "            i += 1\n",
    "        count += dif\n",
    "        print(f'The hamming distance between {str1} and {str2} is {count}')\n",
    "        return count\n",
    "    elif len(str1) < len(str2):\n",
    "        dif = len(str2) - len(str1)\n",
    "        truncStr = str2[:-dif]\n",
    "        while i < len(truncStr):\n",
    "            if(truncStr[i] != str1[i]):\n",
    "                count += 1\n",
    "            i += 1\n",
    "        count += dif\n",
    "        print(f'The hamming distance between {str1} and {str2} is {count}')\n",
    "        return count\n",
    "    else:\n",
    "        while i < len(str1):\n",
    "            if(str1[i] != str2[i]):\n",
    "                count += 1\n",
    "            i += 1\n",
    "        print(f'The hamming distance between {str1} and {str2} is {count}')\n",
    "        return count\n",
    "    \n",
    "        "
   ]
  },
  {
   "cell_type": "code",
   "execution_count": 37,
   "metadata": {},
   "outputs": [
    {
     "output_type": "stream",
     "name": "stdout",
     "text": [
      "The hamming distance between cat and bat is 1\n"
     ]
    },
    {
     "output_type": "execute_result",
     "data": {
      "text/plain": [
       "1"
      ]
     },
     "metadata": {},
     "execution_count": 37
    }
   ],
   "source": [
    "getHamming()"
   ]
  },
  {
   "cell_type": "code",
   "execution_count": null,
   "metadata": {},
   "outputs": [],
   "source": []
  }
 ],
 "metadata": {
  "kernelspec": {
   "display_name": "Python 3",
   "language": "python",
   "name": "python3"
  },
  "language_info": {
   "codemirror_mode": {
    "name": "ipython",
    "version": 3
   },
   "file_extension": ".py",
   "mimetype": "text/x-python",
   "name": "python",
   "nbconvert_exporter": "python",
   "pygments_lexer": "ipython3",
   "version": "3.7.7"
  }
 },
 "nbformat": 4,
 "nbformat_minor": 4
}