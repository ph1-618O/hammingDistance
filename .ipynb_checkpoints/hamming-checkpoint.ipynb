{
 "cells": [
  {
   "cell_type": "code",
   "execution_count": 1,
   "metadata": {},
   "outputs": [],
   "source": [
    "from PyDictionary import PyDictionary as wordDict\n",
    "from english_words import english_words_set as words\n",
    "import itertools\n",
    "from itertools import permutations\n",
    "import time\n",
    "import random\n",
    "import json\n",
    "import pandas as pd"
   ]
  },
  {
   "cell_type": "code",
   "execution_count": null,
   "metadata": {},
   "outputs": [],
   "source": [
    "word1 = 'splendid'\n",
    "word2 = 'sparce'"
   ]
  },
  {
   "cell_type": "code",
   "execution_count": 5,
   "metadata": {},
   "outputs": [],
   "source": [
    "matchedLists = []\n",
    "for i in word2:\n",
    "    wordComp = [item for item in word1 if item == i]\n",
    "    if wordComp not in matchedLists:\n",
    "        matchedLists.append(wordComp)\n",
    "matchList = []\n",
    "for i in matchedLists:\n",
    "    for j in i:\n",
    "        matchList.append(j)"
   ]
  },
  {
   "cell_type": "code",
   "execution_count": 6,
   "metadata": {},
   "outputs": [
    {
     "data": {
      "text/plain": [
       "['s', 'p', 'e']"
      ]
     },
     "execution_count": 6,
     "metadata": {},
     "output_type": "execute_result"
    }
   ],
   "source": [
    "matchList"
   ]
  },
  {
   "cell_type": "code",
   "execution_count": 12,
   "metadata": {},
   "outputs": [
    {
     "data": {
      "text/plain": [
       "2"
      ]
     },
     "execution_count": 12,
     "metadata": {},
     "output_type": "execute_result"
    }
   ],
   "source": [
    "len(word1) - len(word2)"
   ]
  },
  {
   "cell_type": "code",
   "execution_count": 13,
   "metadata": {},
   "outputs": [
    {
     "data": {
      "text/plain": [
       "'splend'"
      ]
     },
     "execution_count": 13,
     "metadata": {},
     "output_type": "execute_result"
    }
   ],
   "source": [
    "word1[:-2]"
   ]
  },
  {
   "cell_type": "code",
   "execution_count": 25,
   "metadata": {},
   "outputs": [],
   "source": [
    "def getHamming(str1, str2):\n",
    "    i = 0\n",
    "    count = 0\n",
    "    if len(str1) > len(str2):\n",
    "        dif = len(str1) - len(str2)\n",
    "        truncStr = str1[:-dif]\n",
    "        while(i < len(truncStr)):\n",
    "            if(truncStr[i] != str2[i]):\n",
    "                count += 1\n",
    "            i += 1\n",
    "        count += dif\n",
    "        return count\n",
    "    elif len(str1) < len(str2):\n",
    "        dif = len(str2) - len(str1)\n",
    "        truncStr = str2[:-dif]\n",
    "        while i < len(truncStr):\n",
    "            if(truncStr[i] != str1[i]):\n",
    "                count += 1\n",
    "            i += 1\n",
    "        count += dif\n",
    "        return count\n",
    "    else:\n",
    "        while i < len(str1):\n",
    "            if(str1[i] != str2[i]):\n",
    "                count += 1\n",
    "            i += 1\n",
    "        return count"
   ]
  },
  {
   "cell_type": "code",
   "execution_count": 26,
   "metadata": {},
   "outputs": [
    {
     "name": "stdout",
     "output_type": "stream",
     "text": [
      "6\n"
     ]
    }
   ],
   "source": [
    "print(getHamming(word1, word2))"
   ]
  },
  {
   "cell_type": "code",
   "execution_count": 27,
   "metadata": {},
   "outputs": [
    {
     "name": "stdout",
     "output_type": "stream",
     "text": [
      "1\n"
     ]
    }
   ],
   "source": [
    "print(getHamming('cat', 'bat'))"
   ]
  },
  {
   "cell_type": "code",
   "execution_count": null,
   "metadata": {},
   "outputs": [],
   "source": []
  }
 ],
 "metadata": {
  "kernelspec": {
   "display_name": "Python 3",
   "language": "python",
   "name": "python3"
  },
  "language_info": {
   "codemirror_mode": {
    "name": "ipython",
    "version": 3
   },
   "file_extension": ".py",
   "mimetype": "text/x-python",
   "name": "python",
   "nbconvert_exporter": "python",
   "pygments_lexer": "ipython3",
   "version": "3.7.7"
  }
 },
 "nbformat": 4,
 "nbformat_minor": 4
}
